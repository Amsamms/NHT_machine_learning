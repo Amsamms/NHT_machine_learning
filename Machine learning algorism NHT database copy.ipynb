{
 "cells": [
  {
   "cell_type": "code",
   "execution_count": 6,
   "id": "f141837c",
   "metadata": {},
   "outputs": [],
   "source": [
    "import numpy as np\n",
    "import pandas as pd\n",
    "import scipy.stats as stats\n",
    "import os\n",
    "import matplotlib.pyplot as plt\n",
    "%matplotlib inline\n",
    "from datetime import datetime,date, timedelta\n",
    "import shutil\n",
    "from time import time\n",
    "from ahmedsabri import *\n",
    "\n"
   ]
  },
  {
   "cell_type": "code",
   "execution_count": 8,
   "id": "e0696b2a",
   "metadata": {},
   "outputs": [],
   "source": [
    "# reading data\n",
    "df=pd.read_csv('Unit 02 Macro Database.csv',header=None)"
   ]
  },
  {
   "cell_type": "code",
   "execution_count": 9,
   "id": "c89282ab",
   "metadata": {},
   "outputs": [],
   "source": [
    "# creating column name\n",
    "df.columns=df.iloc[0:4].fillna('').astype(str).apply(' '.join).str.strip()\n",
    "df.columns=df.columns.str.replace(\" \",\"_\")\n",
    "df.columns=df.columns.str.lower()\n",
    "df.columns=df.columns.str.replace(\"-\",\"_\")\n",
    "df=df.iloc[5:,:].reset_index(drop=True)"
   ]
  },
  {
   "cell_type": "code",
   "execution_count": 10,
   "id": "63e21ab6",
   "metadata": {},
   "outputs": [],
   "source": [
    "# remove duplicated column\n",
    "df=remove_duplicated_columns(df,False)"
   ]
  },
  {
   "cell_type": "code",
   "execution_count": 11,
   "id": "a4ce2863",
   "metadata": {},
   "outputs": [],
   "source": [
    "df=convert_string_to_nan(df)"
   ]
  },
  {
   "cell_type": "code",
   "execution_count": 12,
   "id": "47881b10",
   "metadata": {},
   "outputs": [],
   "source": [
    "# dropping columns and rows containing 85 % nan values\n",
    "df=keep_rows(keep_columns(df,0.85),0.85)"
   ]
  },
  {
   "cell_type": "code",
   "execution_count": 13,
   "id": "620f068d",
   "metadata": {},
   "outputs": [],
   "source": [
    "# converting all data to float except the first date column\n",
    "df=to_float(df,1)"
   ]
  },
  {
   "cell_type": "code",
   "execution_count": 14,
   "id": "64515803",
   "metadata": {},
   "outputs": [],
   "source": [
    "df['description_units_sheet_tag_no._parameter']=pd.to_datetime(df['description_units_sheet_tag_no._parameter'])"
   ]
  },
  {
   "cell_type": "code",
   "execution_count": 16,
   "id": "ce832044",
   "metadata": {},
   "outputs": [],
   "source": [
    "X=df.drop(['description_units_sheet_tag_no._parameter','charge_heater_bridge_wall_temp._°c_03_ti_015_pv'],axis=1)\n",
    "y=df['charge_heater_bridge_wall_temp._°c_03_ti_015_pv']"
   ]
  },
  {
   "cell_type": "code",
   "execution_count": 17,
   "id": "73ba9939",
   "metadata": {},
   "outputs": [],
   "source": [
    "X.fillna(X.median(),inplace=True)"
   ]
  },
  {
   "cell_type": "code",
   "execution_count": 18,
   "id": "2b606556",
   "metadata": {},
   "outputs": [],
   "source": [
    "from sklearn.ensemble import RandomForestRegressor\n",
    "from sklearn.metrics import r2_score "
   ]
  },
  {
   "cell_type": "code",
   "execution_count": 20,
   "id": "e62c5b60",
   "metadata": {},
   "outputs": [
    {
     "data": {
      "text/plain": [
       "RandomForestRegressor()"
      ]
     },
     "execution_count": 20,
     "metadata": {},
     "output_type": "execute_result"
    }
   ],
   "source": [
    "X_train, X_test, y_train, y_test = train_test_split(X, y, random_state=4)\n",
    "lir=RandomForestRegressor()\n",
    "lir.fit(X_train,y_train)\n"
   ]
  },
  {
   "cell_type": "code",
   "execution_count": 21,
   "id": "1da9c119",
   "metadata": {},
   "outputs": [],
   "source": [
    "y_pred=lir.predict(X_test)"
   ]
  },
  {
   "cell_type": "code",
   "execution_count": 22,
   "id": "9b844eea",
   "metadata": {},
   "outputs": [],
   "source": [
    "truth=pd.DataFrame()\n",
    "truth['y_actual']= y_test\n",
    "truth['Y_predict']= y_pred\n",
    "truth['difference']=np.abs(truth['Y_predict']-truth['y_actual'])"
   ]
  },
  {
   "cell_type": "code",
   "execution_count": 23,
   "id": "41c8eaac",
   "metadata": {},
   "outputs": [
    {
     "data": {
      "text/plain": [
       "0.9966594707473435"
      ]
     },
     "execution_count": 23,
     "metadata": {},
     "output_type": "execute_result"
    }
   ],
   "source": [
    "r2_score(y_test,y_pred)"
   ]
  },
  {
   "cell_type": "code",
   "execution_count": 24,
   "id": "79f94de5",
   "metadata": {},
   "outputs": [],
   "source": [
    "from sklearn.metrics import mean_absolute_error     "
   ]
  },
  {
   "cell_type": "code",
   "execution_count": 25,
   "id": "262f7c0b",
   "metadata": {},
   "outputs": [
    {
     "data": {
      "text/plain": [
       "3.578194578797392"
      ]
     },
     "execution_count": 25,
     "metadata": {},
     "output_type": "execute_result"
    }
   ],
   "source": [
    "mean_absolute_error(y_test,y_pred)"
   ]
  },
  {
   "cell_type": "code",
   "execution_count": 26,
   "id": "52a1a934",
   "metadata": {},
   "outputs": [
    {
     "data": {
      "text/plain": [
       "3.5781945787973877"
      ]
     },
     "execution_count": 26,
     "metadata": {},
     "output_type": "execute_result"
    }
   ],
   "source": [
    "truth.difference.mean()"
   ]
  },
  {
   "cell_type": "code",
   "execution_count": 27,
   "id": "b002882a",
   "metadata": {},
   "outputs": [
    {
     "data": {
      "text/html": [
       "<div>\n",
       "<style scoped>\n",
       "    .dataframe tbody tr th:only-of-type {\n",
       "        vertical-align: middle;\n",
       "    }\n",
       "\n",
       "    .dataframe tbody tr th {\n",
       "        vertical-align: top;\n",
       "    }\n",
       "\n",
       "    .dataframe thead th {\n",
       "        text-align: right;\n",
       "    }\n",
       "</style>\n",
       "<table border=\"1\" class=\"dataframe\">\n",
       "  <thead>\n",
       "    <tr style=\"text-align: right;\">\n",
       "      <th></th>\n",
       "      <th>column</th>\n",
       "      <th>importance</th>\n",
       "    </tr>\n",
       "  </thead>\n",
       "  <tbody>\n",
       "    <tr>\n",
       "      <th>92</th>\n",
       "      <td>u_2/3_stack_temperature_°c_03_ti_014_pv</td>\n",
       "      <td>0.831670</td>\n",
       "    </tr>\n",
       "    <tr>\n",
       "      <th>136</th>\n",
       "      <td>03_h_01_skin__03_txi_017_b_pv</td>\n",
       "      <td>0.128822</td>\n",
       "    </tr>\n",
       "    <tr>\n",
       "      <th>53</th>\n",
       "      <td>splitter_reflux_flow__03_fic_004_daca.lastgoodpv</td>\n",
       "      <td>0.014621</td>\n",
       "    </tr>\n",
       "    <tr>\n",
       "      <th>82</th>\n",
       "      <td>fuel_gas_from_u_39_nm3/hr_02_fi_058_daca.lastg...</td>\n",
       "      <td>0.006196</td>\n",
       "    </tr>\n",
       "    <tr>\n",
       "      <th>91</th>\n",
       "      <td>flue_gas_oxygen_analyser_from_03_h_01_%_03_ai_...</td>\n",
       "      <td>0.003431</td>\n",
       "    </tr>\n",
       "    <tr>\n",
       "      <th>...</th>\n",
       "      <td>...</td>\n",
       "      <td>...</td>\n",
       "    </tr>\n",
       "    <tr>\n",
       "      <th>74</th>\n",
       "      <td>splitter_overhead_pressure_bar(g)_03_pic_006_d...</td>\n",
       "      <td>0.000020</td>\n",
       "    </tr>\n",
       "    <tr>\n",
       "      <th>50</th>\n",
       "      <td>stripper_overhead_pressure_#_c_bar(g)_02_pi_02...</td>\n",
       "      <td>0.000019</td>\n",
       "    </tr>\n",
       "    <tr>\n",
       "      <th>48</th>\n",
       "      <td>stripper_overhead_pressure_#a_bar(g)_02_pi_023...</td>\n",
       "      <td>0.000017</td>\n",
       "    </tr>\n",
       "    <tr>\n",
       "      <th>49</th>\n",
       "      <td>stripper_overhead_pressure_#b_bar(g)_02_pi_023...</td>\n",
       "      <td>0.000012</td>\n",
       "    </tr>\n",
       "    <tr>\n",
       "      <th>16</th>\n",
       "      <td>cfe_bypass_valve_open_ratio_%_02_hic_001_autom...</td>\n",
       "      <td>0.000004</td>\n",
       "    </tr>\n",
       "  </tbody>\n",
       "</table>\n",
       "<p>139 rows × 2 columns</p>\n",
       "</div>"
      ],
      "text/plain": [
       "                                                column  importance\n",
       "92             u_2/3_stack_temperature_°c_03_ti_014_pv    0.831670\n",
       "136                      03_h_01_skin__03_txi_017_b_pv    0.128822\n",
       "53    splitter_reflux_flow__03_fic_004_daca.lastgoodpv    0.014621\n",
       "82   fuel_gas_from_u_39_nm3/hr_02_fi_058_daca.lastg...    0.006196\n",
       "91   flue_gas_oxygen_analyser_from_03_h_01_%_03_ai_...    0.003431\n",
       "..                                                 ...         ...\n",
       "74   splitter_overhead_pressure_bar(g)_03_pic_006_d...    0.000020\n",
       "50   stripper_overhead_pressure_#_c_bar(g)_02_pi_02...    0.000019\n",
       "48   stripper_overhead_pressure_#a_bar(g)_02_pi_023...    0.000017\n",
       "49   stripper_overhead_pressure_#b_bar(g)_02_pi_023...    0.000012\n",
       "16   cfe_bypass_valve_open_ratio_%_02_hic_001_autom...    0.000004\n",
       "\n",
       "[139 rows x 2 columns]"
      ]
     },
     "execution_count": 27,
     "metadata": {},
     "output_type": "execute_result"
    }
   ],
   "source": [
    "feat_impo=pd.DataFrame()\n",
    "feat_impo['column']=X.columns\n",
    "feat_impo['importance']= lir.feature_importances_\n",
    "feat_impo.sort_values(by= 'importance', ascending=False)"
   ]
  }
 ],
 "metadata": {
  "kernelspec": {
   "display_name": "Python 3.9.7 ('base')",
   "language": "python",
   "name": "python3"
  },
  "language_info": {
   "codemirror_mode": {
    "name": "ipython",
    "version": 3
   },
   "file_extension": ".py",
   "mimetype": "text/x-python",
   "name": "python",
   "nbconvert_exporter": "python",
   "pygments_lexer": "ipython3",
   "version": "3.9.7"
  },
  "vscode": {
   "interpreter": {
    "hash": "b8fd063ec817739f59a7f077191674e411b742bea4ffe3f308a92037e2940d33"
   }
  }
 },
 "nbformat": 4,
 "nbformat_minor": 5
}
