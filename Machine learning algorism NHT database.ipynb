{
 "cells": [
  {
   "cell_type": "code",
   "execution_count": 1,
   "id": "f141837c",
   "metadata": {},
   "outputs": [],
   "source": [
    "import numpy as np\n",
    "import pandas as pd\n",
    "import scipy.stats as stats\n",
    "import os\n",
    "import matplotlib.pyplot as plt\n",
    "%matplotlib inline\n",
    "from datetime import datetime,date, timedelta\n",
    "import shutil\n",
    "from time import time\n",
    "from ahmedsabri import *\n",
    "\n"
   ]
  },
  {
   "cell_type": "code",
   "execution_count": 2,
   "id": "e0696b2a",
   "metadata": {},
   "outputs": [
    {
     "name": "stderr",
     "output_type": "stream",
     "text": [
      "c:\\Users\\Estabrk\\anaconda3\\lib\\site-packages\\IPython\\core\\interactiveshell.py:3444: DtypeWarning: Columns (1,2,3,4,5,6,7,8,9,10,11,12,13,14,15,16,17,18,19,20,21,22,23,24,25,26,27,28,29,30,31,32,33,34,35,36,37,38,39,40,42,43,44,45,46,47,48,49,50,51,52,53,54,55,56,57,58,59,60,61,62,63,64,65,66,67,68,69,70,71,72,73,74,75,76,77,78,79,80,81,82,83,84,85,86,87,88,89,90,91,92,93,94,95,96,97,98,99,100,101,102,103,104,105,106,107,108,109,110,111,112,113,114,115,116,117,118,120,121,122,123,124,125,126,127,128,129,130,131,132,133,134,135,136,137,138,139,140,141,142,143,144,145,146,147,148,149,150,151,152,153) have mixed types.Specify dtype option on import or set low_memory=False.\n",
      "  exec(code_obj, self.user_global_ns, self.user_ns)\n"
     ]
    }
   ],
   "source": [
    "# reading data\n",
    "df=pd.read_csv('Unit 02 Macro Database.csv',header=None)"
   ]
  },
  {
   "cell_type": "code",
   "execution_count": 3,
   "id": "c89282ab",
   "metadata": {},
   "outputs": [],
   "source": [
    "# creating column name\n",
    "df.columns=df.iloc[0:4].fillna('').astype(str).apply(' '.join).str.strip()\n",
    "df.columns=df.columns.str.replace(\" \",\"_\")\n",
    "df.columns=df.columns.str.lower()\n",
    "df.columns=df.columns.str.replace(\"-\",\"_\")\n",
    "df=df.iloc[5:,:].reset_index(drop=True)"
   ]
  },
  {
   "cell_type": "code",
   "execution_count": 4,
   "id": "63e21ab6",
   "metadata": {},
   "outputs": [],
   "source": [
    "# remove duplicated column\n",
    "df=remove_duplicated_columns(df,False)"
   ]
  },
  {
   "cell_type": "code",
   "execution_count": 5,
   "id": "a4ce2863",
   "metadata": {},
   "outputs": [],
   "source": [
    "df=convert_string_to_nan(df)"
   ]
  },
  {
   "cell_type": "code",
   "execution_count": 6,
   "id": "47881b10",
   "metadata": {},
   "outputs": [],
   "source": [
    "# dropping columns and rows containing 85 % nan values\n",
    "df=keep_rows(keep_columns(df,0.85),0.85)"
   ]
  },
  {
   "cell_type": "code",
   "execution_count": 7,
   "id": "620f068d",
   "metadata": {},
   "outputs": [],
   "source": [
    "# converting all data to float except the first date column\n",
    "df=to_float(df,1)"
   ]
  },
  {
   "cell_type": "code",
   "execution_count": 8,
   "id": "64515803",
   "metadata": {},
   "outputs": [],
   "source": [
    "df['description_units_sheet_tag_no._parameter']=pd.to_datetime(df['description_units_sheet_tag_no._parameter'])"
   ]
  },
  {
   "cell_type": "code",
   "execution_count": 9,
   "id": "c0171a73",
   "metadata": {},
   "outputs": [
    {
     "data": {
      "text/plain": [
       "mps_nm3/hr_02_fi_055_daca.lastgoodpv        6655\n",
       "02h01_skin_temperature_°c_02_txi_041d_pv    4344\n",
       "hps_nm3/hr_02_fi_056_daca.lastgoodpv        2551\n",
       "u_2/3_stack_temperature_°c_03_ti_014_pv      947\n",
       "02h01_skin_temperature_°c_02_txi_036b_pv     691\n",
       "reactor_outlet_temp_°c_02_ti_005_pv          689\n",
       "dtype: int64"
      ]
     },
     "execution_count": 9,
     "metadata": {},
     "output_type": "execute_result"
    }
   ],
   "source": [
    "# Checking the highest nan containing column\n",
    "df.isnull().sum().sort_values(ascending=False).head(6)"
   ]
  },
  {
   "cell_type": "code",
   "execution_count": 10,
   "id": "ce832044",
   "metadata": {},
   "outputs": [],
   "source": [
    "X=df.drop(['description_units_sheet_tag_no._parameter','charge_heater_bridge_wall_temp._°c_03_ti_015_pv'],axis=1)\n",
    "y=df['charge_heater_bridge_wall_temp._°c_03_ti_015_pv']"
   ]
  },
  {
   "cell_type": "code",
   "execution_count": 11,
   "id": "73ba9939",
   "metadata": {},
   "outputs": [],
   "source": [
    "X.fillna(X.median(),inplace=True)"
   ]
  },
  {
   "cell_type": "code",
   "execution_count": 12,
   "id": "30b20c1e",
   "metadata": {},
   "outputs": [],
   "source": [
    "from sklearn.preprocessing import PowerTransformer, MinMaxScaler\n",
    "from sklearn.pipeline import make_pipeline\n",
    "pt=PowerTransformer(standardize=False)\n",
    "scaler=MinMaxScaler()\n",
    "pipe= make_pipeline(pt,scaler)\n"
   ]
  },
  {
   "cell_type": "code",
   "execution_count": 13,
   "id": "f5982798",
   "metadata": {},
   "outputs": [],
   "source": [
    "X_final=pd.DataFrame(pipe.fit_transform(X),columns=X.columns)"
   ]
  },
  {
   "cell_type": "code",
   "execution_count": 15,
   "id": "2b606556",
   "metadata": {},
   "outputs": [
    {
     "name": "stderr",
     "output_type": "stream",
     "text": [
      "e:\\Data analysis portofolio\\Machine learning\\NHT\\ahmedsabri.py:249: DataConversionWarning: A column-vector y was passed when a 1d array was expected. Please change the shape of y to (n_samples,), for example using ravel().\n",
      "  clean_clf.fit(X_train[tr_slicer[0]:tr_slicer[1]],y_train[tr_slicer[0]:tr_slicer[1]])\n",
      "c:\\Users\\Estabrk\\anaconda3\\lib\\site-packages\\sklearn\\utils\\validation.py:63: DataConversionWarning: A column-vector y was passed when a 1d array was expected. Please change the shape of y to (n_samples, ), for example using ravel().\n",
      "  return f(*args, **kwargs)\n",
      "c:\\Users\\Estabrk\\anaconda3\\lib\\site-packages\\sklearn\\utils\\validation.py:63: DataConversionWarning: A column-vector y was passed when a 1d array was expected. Please change the shape of y to (n_samples, ), for example using ravel().\n",
      "  return f(*args, **kwargs)\n"
     ]
    },
    {
     "name": "stdout",
     "output_type": "stream",
     "text": [
      "loop number 0 out of 5 took 559.8453469276428 seconds\n"
     ]
    },
    {
     "name": "stderr",
     "output_type": "stream",
     "text": [
      "e:\\Data analysis portofolio\\Machine learning\\NHT\\ahmedsabri.py:249: DataConversionWarning: A column-vector y was passed when a 1d array was expected. Please change the shape of y to (n_samples,), for example using ravel().\n",
      "  clean_clf.fit(X_train[tr_slicer[0]:tr_slicer[1]],y_train[tr_slicer[0]:tr_slicer[1]])\n",
      "c:\\Users\\Estabrk\\anaconda3\\lib\\site-packages\\sklearn\\utils\\validation.py:63: DataConversionWarning: A column-vector y was passed when a 1d array was expected. Please change the shape of y to (n_samples, ), for example using ravel().\n",
      "  return f(*args, **kwargs)\n",
      "c:\\Users\\Estabrk\\anaconda3\\lib\\site-packages\\sklearn\\utils\\validation.py:63: DataConversionWarning: A column-vector y was passed when a 1d array was expected. Please change the shape of y to (n_samples, ), for example using ravel().\n",
      "  return f(*args, **kwargs)\n"
     ]
    },
    {
     "name": "stdout",
     "output_type": "stream",
     "text": [
      "loop number 1 out of 5 took 547.2283601760864 seconds\n"
     ]
    },
    {
     "name": "stderr",
     "output_type": "stream",
     "text": [
      "e:\\Data analysis portofolio\\Machine learning\\NHT\\ahmedsabri.py:249: DataConversionWarning: A column-vector y was passed when a 1d array was expected. Please change the shape of y to (n_samples,), for example using ravel().\n",
      "  clean_clf.fit(X_train[tr_slicer[0]:tr_slicer[1]],y_train[tr_slicer[0]:tr_slicer[1]])\n",
      "c:\\Users\\Estabrk\\anaconda3\\lib\\site-packages\\sklearn\\utils\\validation.py:63: DataConversionWarning: A column-vector y was passed when a 1d array was expected. Please change the shape of y to (n_samples, ), for example using ravel().\n",
      "  return f(*args, **kwargs)\n",
      "c:\\Users\\Estabrk\\anaconda3\\lib\\site-packages\\sklearn\\utils\\validation.py:63: DataConversionWarning: A column-vector y was passed when a 1d array was expected. Please change the shape of y to (n_samples, ), for example using ravel().\n",
      "  return f(*args, **kwargs)\n"
     ]
    },
    {
     "name": "stdout",
     "output_type": "stream",
     "text": [
      "loop number 2 out of 5 took 555.5149810314178 seconds\n"
     ]
    },
    {
     "name": "stderr",
     "output_type": "stream",
     "text": [
      "e:\\Data analysis portofolio\\Machine learning\\NHT\\ahmedsabri.py:249: DataConversionWarning: A column-vector y was passed when a 1d array was expected. Please change the shape of y to (n_samples,), for example using ravel().\n",
      "  clean_clf.fit(X_train[tr_slicer[0]:tr_slicer[1]],y_train[tr_slicer[0]:tr_slicer[1]])\n",
      "c:\\Users\\Estabrk\\anaconda3\\lib\\site-packages\\sklearn\\utils\\validation.py:63: DataConversionWarning: A column-vector y was passed when a 1d array was expected. Please change the shape of y to (n_samples, ), for example using ravel().\n",
      "  return f(*args, **kwargs)\n",
      "c:\\Users\\Estabrk\\anaconda3\\lib\\site-packages\\sklearn\\utils\\validation.py:63: DataConversionWarning: A column-vector y was passed when a 1d array was expected. Please change the shape of y to (n_samples, ), for example using ravel().\n",
      "  return f(*args, **kwargs)\n"
     ]
    },
    {
     "name": "stdout",
     "output_type": "stream",
     "text": [
      "loop number 3 out of 5 took 556.4180545806885 seconds\n"
     ]
    },
    {
     "name": "stderr",
     "output_type": "stream",
     "text": [
      "e:\\Data analysis portofolio\\Machine learning\\NHT\\ahmedsabri.py:249: DataConversionWarning: A column-vector y was passed when a 1d array was expected. Please change the shape of y to (n_samples,), for example using ravel().\n",
      "  clean_clf.fit(X_train[tr_slicer[0]:tr_slicer[1]],y_train[tr_slicer[0]:tr_slicer[1]])\n",
      "c:\\Users\\Estabrk\\anaconda3\\lib\\site-packages\\sklearn\\utils\\validation.py:63: DataConversionWarning: A column-vector y was passed when a 1d array was expected. Please change the shape of y to (n_samples, ), for example using ravel().\n",
      "  return f(*args, **kwargs)\n",
      "c:\\Users\\Estabrk\\anaconda3\\lib\\site-packages\\sklearn\\utils\\validation.py:63: DataConversionWarning: A column-vector y was passed when a 1d array was expected. Please change the shape of y to (n_samples, ), for example using ravel().\n",
      "  return f(*args, **kwargs)\n"
     ]
    },
    {
     "name": "stdout",
     "output_type": "stream",
     "text": [
      "loop number 4 out of 5 took 549.2738637924194 seconds\n"
     ]
    }
   ],
   "source": [
    "from sklearn.ensemble import RandomForestRegressor, AdaBoostRegressor\n",
    "from sklearn.linear_model import LinearRegression, SGDRegressor\n",
    "from sklearn.base import clone\n",
    "from sklearn.metrics import r2_score \n",
    "estimators_repeater(estimators=[RandomForestRegressor(),AdaBoostRegressor(),LinearRegression(),SGDRegressor()],loops=5,scorer=r2_score, X=X_final,y=y)"
   ]
  },
  {
   "cell_type": "code",
   "execution_count": 22,
   "id": "8458a4e0",
   "metadata": {},
   "outputs": [],
   "source": [
    "from ahmedsabri import training_score_df, testing_score_df, timing_df"
   ]
  },
  {
   "cell_type": "code",
   "execution_count": 27,
   "id": "ee577ff9",
   "metadata": {},
   "outputs": [
    {
     "data": {
      "text/plain": [
       "AdaBoostRegressor        0.972318\n",
       "SGDRegressor             0.982392\n",
       "LinearRegression         0.985070\n",
       "RandomForestRegressor    0.999642\n",
       "dtype: float64"
      ]
     },
     "execution_count": 27,
     "metadata": {},
     "output_type": "execute_result"
    }
   ],
   "source": [
    "training_score_df.mean().sort_values()"
   ]
  },
  {
   "cell_type": "code",
   "execution_count": 28,
   "id": "84c2a87c",
   "metadata": {},
   "outputs": [
    {
     "data": {
      "text/plain": [
       "AdaBoostRegressor        0.971815\n",
       "SGDRegressor             0.982400\n",
       "LinearRegression         0.984625\n",
       "RandomForestRegressor    0.996982\n",
       "dtype: float64"
      ]
     },
     "execution_count": 28,
     "metadata": {},
     "output_type": "execute_result"
    }
   ],
   "source": [
    "testing_score_df.mean().sort_values()"
   ]
  },
  {
   "cell_type": "code",
   "execution_count": 24,
   "id": "7e2a929c",
   "metadata": {},
   "outputs": [
    {
     "data": {
      "text/html": [
       "<div>\n",
       "<style scoped>\n",
       "    .dataframe tbody tr th:only-of-type {\n",
       "        vertical-align: middle;\n",
       "    }\n",
       "\n",
       "    .dataframe tbody tr th {\n",
       "        vertical-align: top;\n",
       "    }\n",
       "\n",
       "    .dataframe thead th {\n",
       "        text-align: right;\n",
       "    }\n",
       "</style>\n",
       "<table border=\"1\" class=\"dataframe\">\n",
       "  <thead>\n",
       "    <tr style=\"text-align: right;\">\n",
       "      <th></th>\n",
       "      <th>RandomForestRegressor</th>\n",
       "      <th>AdaBoostRegressor</th>\n",
       "      <th>LinearRegression</th>\n",
       "      <th>SGDRegressor</th>\n",
       "    </tr>\n",
       "  </thead>\n",
       "  <tbody>\n",
       "    <tr>\n",
       "      <th>0</th>\n",
       "      <td>497.381659</td>\n",
       "      <td>50.749920</td>\n",
       "      <td>0.372259</td>\n",
       "      <td>11.263715</td>\n",
       "    </tr>\n",
       "    <tr>\n",
       "      <th>1</th>\n",
       "      <td>490.033140</td>\n",
       "      <td>49.054721</td>\n",
       "      <td>0.213076</td>\n",
       "      <td>7.782298</td>\n",
       "    </tr>\n",
       "    <tr>\n",
       "      <th>2</th>\n",
       "      <td>490.997818</td>\n",
       "      <td>51.768050</td>\n",
       "      <td>0.202079</td>\n",
       "      <td>12.485234</td>\n",
       "    </tr>\n",
       "    <tr>\n",
       "      <th>3</th>\n",
       "      <td>487.651934</td>\n",
       "      <td>54.582106</td>\n",
       "      <td>0.194479</td>\n",
       "      <td>13.924711</td>\n",
       "    </tr>\n",
       "    <tr>\n",
       "      <th>4</th>\n",
       "      <td>487.641631</td>\n",
       "      <td>50.753432</td>\n",
       "      <td>0.247817</td>\n",
       "      <td>10.500334</td>\n",
       "    </tr>\n",
       "  </tbody>\n",
       "</table>\n",
       "</div>"
      ],
      "text/plain": [
       "   RandomForestRegressor  AdaBoostRegressor  LinearRegression  SGDRegressor\n",
       "0             497.381659          50.749920          0.372259     11.263715\n",
       "1             490.033140          49.054721          0.213076      7.782298\n",
       "2             490.997818          51.768050          0.202079     12.485234\n",
       "3             487.651934          54.582106          0.194479     13.924711\n",
       "4             487.641631          50.753432          0.247817     10.500334"
      ]
     },
     "execution_count": 24,
     "metadata": {},
     "output_type": "execute_result"
    }
   ],
   "source": [
    "timing_df"
   ]
  },
  {
   "cell_type": "code",
   "execution_count": 29,
   "id": "efbfa436",
   "metadata": {},
   "outputs": [
    {
     "data": {
      "text/html": [
       "<div>\n",
       "<style scoped>\n",
       "    .dataframe tbody tr th:only-of-type {\n",
       "        vertical-align: middle;\n",
       "    }\n",
       "\n",
       "    .dataframe tbody tr th {\n",
       "        vertical-align: top;\n",
       "    }\n",
       "\n",
       "    .dataframe thead th {\n",
       "        text-align: right;\n",
       "    }\n",
       "</style>\n",
       "<table border=\"1\" class=\"dataframe\">\n",
       "  <thead>\n",
       "    <tr style=\"text-align: right;\">\n",
       "      <th></th>\n",
       "      <th>RandomForestRegressor</th>\n",
       "      <th>AdaBoostRegressor</th>\n",
       "      <th>LinearRegression</th>\n",
       "      <th>SGDRegressor</th>\n",
       "    </tr>\n",
       "  </thead>\n",
       "  <tbody>\n",
       "    <tr>\n",
       "      <th>0</th>\n",
       "      <td>0.996261</td>\n",
       "      <td>0.972130</td>\n",
       "      <td>0.982526</td>\n",
       "      <td>0.979874</td>\n",
       "    </tr>\n",
       "    <tr>\n",
       "      <th>1</th>\n",
       "      <td>0.997716</td>\n",
       "      <td>0.972662</td>\n",
       "      <td>0.985155</td>\n",
       "      <td>0.982936</td>\n",
       "    </tr>\n",
       "    <tr>\n",
       "      <th>2</th>\n",
       "      <td>0.997050</td>\n",
       "      <td>0.970930</td>\n",
       "      <td>0.984335</td>\n",
       "      <td>0.983146</td>\n",
       "    </tr>\n",
       "    <tr>\n",
       "      <th>3</th>\n",
       "      <td>0.997423</td>\n",
       "      <td>0.972524</td>\n",
       "      <td>0.987260</td>\n",
       "      <td>0.984668</td>\n",
       "    </tr>\n",
       "    <tr>\n",
       "      <th>4</th>\n",
       "      <td>0.996459</td>\n",
       "      <td>0.970826</td>\n",
       "      <td>0.983851</td>\n",
       "      <td>0.981377</td>\n",
       "    </tr>\n",
       "  </tbody>\n",
       "</table>\n",
       "</div>"
      ],
      "text/plain": [
       "   RandomForestRegressor  AdaBoostRegressor  LinearRegression  SGDRegressor\n",
       "0               0.996261           0.972130          0.982526      0.979874\n",
       "1               0.997716           0.972662          0.985155      0.982936\n",
       "2               0.997050           0.970930          0.984335      0.983146\n",
       "3               0.997423           0.972524          0.987260      0.984668\n",
       "4               0.996459           0.970826          0.983851      0.981377"
      ]
     },
     "execution_count": 29,
     "metadata": {},
     "output_type": "execute_result"
    }
   ],
   "source": [
    "testing_score_df"
   ]
  },
  {
   "cell_type": "code",
   "execution_count": 49,
   "id": "e62c5b60",
   "metadata": {},
   "outputs": [
    {
     "name": "stderr",
     "output_type": "stream",
     "text": [
      "C:\\Users\\Estabrk\\AppData\\Local\\Temp/ipykernel_3068/661709955.py:3: DataConversionWarning: A column-vector y was passed when a 1d array was expected. Please change the shape of y to (n_samples,), for example using ravel().\n",
      "  lir.fit(X_train,y_train)\n"
     ]
    },
    {
     "data": {
      "text/plain": [
       "RandomForestRegressor()"
      ]
     },
     "execution_count": 49,
     "metadata": {},
     "output_type": "execute_result"
    }
   ],
   "source": [
    "X_train, X_test, y_train, y_test = train_test_split(X_final, y, random_state=4)\n",
    "lir=RandomForestRegressor()\n",
    "lir.fit(X_train,y_train)\n"
   ]
  },
  {
   "cell_type": "code",
   "execution_count": 50,
   "id": "1da9c119",
   "metadata": {},
   "outputs": [],
   "source": [
    "y_pred=lir.predict(X_test)"
   ]
  },
  {
   "cell_type": "code",
   "execution_count": 51,
   "id": "9b844eea",
   "metadata": {},
   "outputs": [],
   "source": [
    "truth=pd.DataFrame()\n",
    "truth['y_actual']= y_test\n",
    "truth['Y_predict']= y_pred\n",
    "truth['difference']=np.abs(truth['Y_predict']-truth['y_actual'])"
   ]
  },
  {
   "cell_type": "code",
   "execution_count": 52,
   "id": "41c8eaac",
   "metadata": {},
   "outputs": [
    {
     "data": {
      "text/plain": [
       "0.9966208599776989"
      ]
     },
     "execution_count": 52,
     "metadata": {},
     "output_type": "execute_result"
    }
   ],
   "source": [
    "r2_score(y_test,y_pred)"
   ]
  },
  {
   "cell_type": "code",
   "execution_count": 53,
   "id": "79f94de5",
   "metadata": {},
   "outputs": [],
   "source": [
    "from sklearn.metrics import mean_absolute_error     "
   ]
  },
  {
   "cell_type": "code",
   "execution_count": 54,
   "id": "262f7c0b",
   "metadata": {},
   "outputs": [
    {
     "data": {
      "text/plain": [
       "3.5696914079053044"
      ]
     },
     "execution_count": 54,
     "metadata": {},
     "output_type": "execute_result"
    }
   ],
   "source": [
    "mean_absolute_error(y_test,y_pred)"
   ]
  },
  {
   "cell_type": "code",
   "execution_count": 55,
   "id": "52a1a934",
   "metadata": {},
   "outputs": [
    {
     "data": {
      "text/plain": [
       "3.569691407905311"
      ]
     },
     "execution_count": 55,
     "metadata": {},
     "output_type": "execute_result"
    }
   ],
   "source": [
    "truth.difference.mean()"
   ]
  },
  {
   "cell_type": "code",
   "execution_count": 56,
   "id": "40b8f09f",
   "metadata": {},
   "outputs": [
    {
     "data": {
      "text/html": [
       "<div>\n",
       "<style scoped>\n",
       "    .dataframe tbody tr th:only-of-type {\n",
       "        vertical-align: middle;\n",
       "    }\n",
       "\n",
       "    .dataframe tbody tr th {\n",
       "        vertical-align: top;\n",
       "    }\n",
       "\n",
       "    .dataframe thead th {\n",
       "        text-align: right;\n",
       "    }\n",
       "</style>\n",
       "<table border=\"1\" class=\"dataframe\">\n",
       "  <thead>\n",
       "    <tr style=\"text-align: right;\">\n",
       "      <th></th>\n",
       "      <th>y_actual</th>\n",
       "      <th>Y_predict</th>\n",
       "      <th>difference</th>\n",
       "    </tr>\n",
       "  </thead>\n",
       "  <tbody>\n",
       "    <tr>\n",
       "      <th>11609</th>\n",
       "      <td>673.38</td>\n",
       "      <td>674.7512</td>\n",
       "      <td>1.3712</td>\n",
       "    </tr>\n",
       "    <tr>\n",
       "      <th>21430</th>\n",
       "      <td>752.22</td>\n",
       "      <td>747.6897</td>\n",
       "      <td>4.5303</td>\n",
       "    </tr>\n",
       "    <tr>\n",
       "      <th>25929</th>\n",
       "      <td>616.35</td>\n",
       "      <td>610.2102</td>\n",
       "      <td>6.1398</td>\n",
       "    </tr>\n",
       "    <tr>\n",
       "      <th>35060</th>\n",
       "      <td>704.86</td>\n",
       "      <td>710.2425</td>\n",
       "      <td>5.3825</td>\n",
       "    </tr>\n",
       "    <tr>\n",
       "      <th>6683</th>\n",
       "      <td>696.34</td>\n",
       "      <td>695.8614</td>\n",
       "      <td>0.4786</td>\n",
       "    </tr>\n",
       "    <tr>\n",
       "      <th>3540</th>\n",
       "      <td>732.27</td>\n",
       "      <td>730.8608</td>\n",
       "      <td>1.4092</td>\n",
       "    </tr>\n",
       "    <tr>\n",
       "      <th>52486</th>\n",
       "      <td>648.99</td>\n",
       "      <td>658.2262</td>\n",
       "      <td>9.2362</td>\n",
       "    </tr>\n",
       "    <tr>\n",
       "      <th>46183</th>\n",
       "      <td>691.97</td>\n",
       "      <td>696.2196</td>\n",
       "      <td>4.2496</td>\n",
       "    </tr>\n",
       "    <tr>\n",
       "      <th>22869</th>\n",
       "      <td>656.83</td>\n",
       "      <td>665.3295</td>\n",
       "      <td>8.4995</td>\n",
       "    </tr>\n",
       "    <tr>\n",
       "      <th>28438</th>\n",
       "      <td>679.07</td>\n",
       "      <td>676.3461</td>\n",
       "      <td>2.7239</td>\n",
       "    </tr>\n",
       "    <tr>\n",
       "      <th>20039</th>\n",
       "      <td>736.03</td>\n",
       "      <td>733.0591</td>\n",
       "      <td>2.9709</td>\n",
       "    </tr>\n",
       "    <tr>\n",
       "      <th>45068</th>\n",
       "      <td>674.77</td>\n",
       "      <td>678.0452</td>\n",
       "      <td>3.2752</td>\n",
       "    </tr>\n",
       "    <tr>\n",
       "      <th>5502</th>\n",
       "      <td>709.99</td>\n",
       "      <td>713.9883</td>\n",
       "      <td>3.9983</td>\n",
       "    </tr>\n",
       "    <tr>\n",
       "      <th>42971</th>\n",
       "      <td>657.58</td>\n",
       "      <td>656.1620</td>\n",
       "      <td>1.4180</td>\n",
       "    </tr>\n",
       "    <tr>\n",
       "      <th>12157</th>\n",
       "      <td>679.36</td>\n",
       "      <td>678.7836</td>\n",
       "      <td>0.5764</td>\n",
       "    </tr>\n",
       "    <tr>\n",
       "      <th>13258</th>\n",
       "      <td>579.39</td>\n",
       "      <td>580.9063</td>\n",
       "      <td>1.5163</td>\n",
       "    </tr>\n",
       "    <tr>\n",
       "      <th>43803</th>\n",
       "      <td>691.97</td>\n",
       "      <td>691.8901</td>\n",
       "      <td>0.0799</td>\n",
       "    </tr>\n",
       "    <tr>\n",
       "      <th>40102</th>\n",
       "      <td>691.97</td>\n",
       "      <td>693.1167</td>\n",
       "      <td>1.1467</td>\n",
       "    </tr>\n",
       "    <tr>\n",
       "      <th>31919</th>\n",
       "      <td>674.77</td>\n",
       "      <td>682.1266</td>\n",
       "      <td>7.3566</td>\n",
       "    </tr>\n",
       "    <tr>\n",
       "      <th>17238</th>\n",
       "      <td>730.75</td>\n",
       "      <td>729.1615</td>\n",
       "      <td>1.5885</td>\n",
       "    </tr>\n",
       "    <tr>\n",
       "      <th>19350</th>\n",
       "      <td>739.20</td>\n",
       "      <td>738.7276</td>\n",
       "      <td>0.4724</td>\n",
       "    </tr>\n",
       "    <tr>\n",
       "      <th>32478</th>\n",
       "      <td>674.77</td>\n",
       "      <td>675.4460</td>\n",
       "      <td>0.6760</td>\n",
       "    </tr>\n",
       "    <tr>\n",
       "      <th>38228</th>\n",
       "      <td>653.28</td>\n",
       "      <td>647.9608</td>\n",
       "      <td>5.3192</td>\n",
       "    </tr>\n",
       "    <tr>\n",
       "      <th>50040</th>\n",
       "      <td>644.69</td>\n",
       "      <td>644.5180</td>\n",
       "      <td>0.1720</td>\n",
       "    </tr>\n",
       "    <tr>\n",
       "      <th>43821</th>\n",
       "      <td>704.86</td>\n",
       "      <td>706.0229</td>\n",
       "      <td>1.1629</td>\n",
       "    </tr>\n",
       "    <tr>\n",
       "      <th>13942</th>\n",
       "      <td>730.75</td>\n",
       "      <td>720.7396</td>\n",
       "      <td>10.0104</td>\n",
       "    </tr>\n",
       "    <tr>\n",
       "      <th>4742</th>\n",
       "      <td>718.57</td>\n",
       "      <td>719.5523</td>\n",
       "      <td>0.9823</td>\n",
       "    </tr>\n",
       "    <tr>\n",
       "      <th>36549</th>\n",
       "      <td>709.16</td>\n",
       "      <td>707.4261</td>\n",
       "      <td>1.7339</td>\n",
       "    </tr>\n",
       "    <tr>\n",
       "      <th>28261</th>\n",
       "      <td>485.67</td>\n",
       "      <td>486.4478</td>\n",
       "      <td>0.7778</td>\n",
       "    </tr>\n",
       "    <tr>\n",
       "      <th>1960</th>\n",
       "      <td>743.41</td>\n",
       "      <td>736.6209</td>\n",
       "      <td>6.7891</td>\n",
       "    </tr>\n",
       "    <tr>\n",
       "      <th>7572</th>\n",
       "      <td>706.97</td>\n",
       "      <td>706.2272</td>\n",
       "      <td>0.7428</td>\n",
       "    </tr>\n",
       "    <tr>\n",
       "      <th>21999</th>\n",
       "      <td>39.78</td>\n",
       "      <td>41.3766</td>\n",
       "      <td>1.5966</td>\n",
       "    </tr>\n",
       "    <tr>\n",
       "      <th>23725</th>\n",
       "      <td>668.80</td>\n",
       "      <td>669.1955</td>\n",
       "      <td>0.3955</td>\n",
       "    </tr>\n",
       "    <tr>\n",
       "      <th>14637</th>\n",
       "      <td>708.22</td>\n",
       "      <td>701.8974</td>\n",
       "      <td>6.3226</td>\n",
       "    </tr>\n",
       "    <tr>\n",
       "      <th>25090</th>\n",
       "      <td>661.06</td>\n",
       "      <td>662.8700</td>\n",
       "      <td>1.8100</td>\n",
       "    </tr>\n",
       "    <tr>\n",
       "      <th>36069</th>\n",
       "      <td>709.16</td>\n",
       "      <td>706.5762</td>\n",
       "      <td>2.5838</td>\n",
       "    </tr>\n",
       "    <tr>\n",
       "      <th>54030</th>\n",
       "      <td>696.26</td>\n",
       "      <td>702.4523</td>\n",
       "      <td>6.1923</td>\n",
       "    </tr>\n",
       "    <tr>\n",
       "      <th>8780</th>\n",
       "      <td>707.87</td>\n",
       "      <td>705.4974</td>\n",
       "      <td>2.3726</td>\n",
       "    </tr>\n",
       "    <tr>\n",
       "      <th>47315</th>\n",
       "      <td>679.07</td>\n",
       "      <td>675.4605</td>\n",
       "      <td>3.6095</td>\n",
       "    </tr>\n",
       "    <tr>\n",
       "      <th>17169</th>\n",
       "      <td>748.70</td>\n",
       "      <td>744.1492</td>\n",
       "      <td>4.5508</td>\n",
       "    </tr>\n",
       "  </tbody>\n",
       "</table>\n",
       "</div>"
      ],
      "text/plain": [
       "       y_actual  Y_predict  difference\n",
       "11609    673.38   674.7512      1.3712\n",
       "21430    752.22   747.6897      4.5303\n",
       "25929    616.35   610.2102      6.1398\n",
       "35060    704.86   710.2425      5.3825\n",
       "6683     696.34   695.8614      0.4786\n",
       "3540     732.27   730.8608      1.4092\n",
       "52486    648.99   658.2262      9.2362\n",
       "46183    691.97   696.2196      4.2496\n",
       "22869    656.83   665.3295      8.4995\n",
       "28438    679.07   676.3461      2.7239\n",
       "20039    736.03   733.0591      2.9709\n",
       "45068    674.77   678.0452      3.2752\n",
       "5502     709.99   713.9883      3.9983\n",
       "42971    657.58   656.1620      1.4180\n",
       "12157    679.36   678.7836      0.5764\n",
       "13258    579.39   580.9063      1.5163\n",
       "43803    691.97   691.8901      0.0799\n",
       "40102    691.97   693.1167      1.1467\n",
       "31919    674.77   682.1266      7.3566\n",
       "17238    730.75   729.1615      1.5885\n",
       "19350    739.20   738.7276      0.4724\n",
       "32478    674.77   675.4460      0.6760\n",
       "38228    653.28   647.9608      5.3192\n",
       "50040    644.69   644.5180      0.1720\n",
       "43821    704.86   706.0229      1.1629\n",
       "13942    730.75   720.7396     10.0104\n",
       "4742     718.57   719.5523      0.9823\n",
       "36549    709.16   707.4261      1.7339\n",
       "28261    485.67   486.4478      0.7778\n",
       "1960     743.41   736.6209      6.7891\n",
       "7572     706.97   706.2272      0.7428\n",
       "21999     39.78    41.3766      1.5966\n",
       "23725    668.80   669.1955      0.3955\n",
       "14637    708.22   701.8974      6.3226\n",
       "25090    661.06   662.8700      1.8100\n",
       "36069    709.16   706.5762      2.5838\n",
       "54030    696.26   702.4523      6.1923\n",
       "8780     707.87   705.4974      2.3726\n",
       "47315    679.07   675.4605      3.6095\n",
       "17169    748.70   744.1492      4.5508"
      ]
     },
     "execution_count": 56,
     "metadata": {},
     "output_type": "execute_result"
    }
   ],
   "source": [
    "truth.sample(40)"
   ]
  },
  {
   "cell_type": "code",
   "execution_count": 59,
   "id": "11fffd1e",
   "metadata": {},
   "outputs": [],
   "source": [
    "feat_impo=pd.DataFrame()\n",
    "feat_impo['column']=X.columns\n",
    "feat_impo['importance']= lir.feature_importances_"
   ]
  },
  {
   "cell_type": "code",
   "execution_count": 62,
   "id": "57e33fa8",
   "metadata": {},
   "outputs": [
    {
     "data": {
      "text/html": [
       "<div>\n",
       "<style scoped>\n",
       "    .dataframe tbody tr th:only-of-type {\n",
       "        vertical-align: middle;\n",
       "    }\n",
       "\n",
       "    .dataframe tbody tr th {\n",
       "        vertical-align: top;\n",
       "    }\n",
       "\n",
       "    .dataframe thead th {\n",
       "        text-align: right;\n",
       "    }\n",
       "</style>\n",
       "<table border=\"1\" class=\"dataframe\">\n",
       "  <thead>\n",
       "    <tr style=\"text-align: right;\">\n",
       "      <th></th>\n",
       "      <th>column</th>\n",
       "      <th>importance</th>\n",
       "    </tr>\n",
       "  </thead>\n",
       "  <tbody>\n",
       "    <tr>\n",
       "      <th>92</th>\n",
       "      <td>u_2/3_stack_temperature_°c_03_ti_014_pv</td>\n",
       "      <td>0.813941</td>\n",
       "    </tr>\n",
       "    <tr>\n",
       "      <th>136</th>\n",
       "      <td>03_h_01_skin__03_txi_017_b_pv</td>\n",
       "      <td>0.146832</td>\n",
       "    </tr>\n",
       "    <tr>\n",
       "      <th>53</th>\n",
       "      <td>splitter_reflux_flow__03_fic_004_daca.lastgoodpv</td>\n",
       "      <td>0.014313</td>\n",
       "    </tr>\n",
       "    <tr>\n",
       "      <th>82</th>\n",
       "      <td>fuel_gas_from_u_39_nm3/hr_02_fi_058_daca.lastg...</td>\n",
       "      <td>0.006149</td>\n",
       "    </tr>\n",
       "    <tr>\n",
       "      <th>91</th>\n",
       "      <td>flue_gas_oxygen_analyser_from_03_h_01_%_03_ai_...</td>\n",
       "      <td>0.003303</td>\n",
       "    </tr>\n",
       "    <tr>\n",
       "      <th>...</th>\n",
       "      <td>...</td>\n",
       "      <td>...</td>\n",
       "    </tr>\n",
       "    <tr>\n",
       "      <th>74</th>\n",
       "      <td>splitter_overhead_pressure_bar(g)_03_pic_006_d...</td>\n",
       "      <td>0.000017</td>\n",
       "    </tr>\n",
       "    <tr>\n",
       "      <th>49</th>\n",
       "      <td>stripper_overhead_pressure_#b_bar(g)_02_pi_023...</td>\n",
       "      <td>0.000017</td>\n",
       "    </tr>\n",
       "    <tr>\n",
       "      <th>44</th>\n",
       "      <td>stripper_overhead_from_condenser_temp_°c_02_ti...</td>\n",
       "      <td>0.000015</td>\n",
       "    </tr>\n",
       "    <tr>\n",
       "      <th>48</th>\n",
       "      <td>stripper_overhead_pressure_#a_bar(g)_02_pi_023...</td>\n",
       "      <td>0.000015</td>\n",
       "    </tr>\n",
       "    <tr>\n",
       "      <th>16</th>\n",
       "      <td>cfe_bypass_valve_open_ratio_%_02_hic_001_autom...</td>\n",
       "      <td>0.000008</td>\n",
       "    </tr>\n",
       "  </tbody>\n",
       "</table>\n",
       "<p>139 rows × 2 columns</p>\n",
       "</div>"
      ],
      "text/plain": [
       "                                                column  importance\n",
       "92             u_2/3_stack_temperature_°c_03_ti_014_pv    0.813941\n",
       "136                      03_h_01_skin__03_txi_017_b_pv    0.146832\n",
       "53    splitter_reflux_flow__03_fic_004_daca.lastgoodpv    0.014313\n",
       "82   fuel_gas_from_u_39_nm3/hr_02_fi_058_daca.lastg...    0.006149\n",
       "91   flue_gas_oxygen_analyser_from_03_h_01_%_03_ai_...    0.003303\n",
       "..                                                 ...         ...\n",
       "74   splitter_overhead_pressure_bar(g)_03_pic_006_d...    0.000017\n",
       "49   stripper_overhead_pressure_#b_bar(g)_02_pi_023...    0.000017\n",
       "44   stripper_overhead_from_condenser_temp_°c_02_ti...    0.000015\n",
       "48   stripper_overhead_pressure_#a_bar(g)_02_pi_023...    0.000015\n",
       "16   cfe_bypass_valve_open_ratio_%_02_hic_001_autom...    0.000008\n",
       "\n",
       "[139 rows x 2 columns]"
      ]
     },
     "execution_count": 62,
     "metadata": {},
     "output_type": "execute_result"
    }
   ],
   "source": [
    "feat_impo.sort_values(by= 'importance', ascending=False)"
   ]
  },
  {
   "cell_type": "code",
   "execution_count": 63,
   "id": "2efd51cb",
   "metadata": {},
   "outputs": [
    {
     "data": {
      "text/plain": [
       "column        straight_run_naphtha_from_unit1_m3/hr_01_fic_1...\n",
       "importance                                                  1.0\n",
       "dtype: object"
      ]
     },
     "execution_count": 63,
     "metadata": {},
     "output_type": "execute_result"
    }
   ],
   "source": [
    "feat_impo.sum()"
   ]
  },
  {
   "cell_type": "code",
   "execution_count": 64,
   "id": "7afac662",
   "metadata": {},
   "outputs": [
    {
     "data": {
      "text/html": [
       "<div>\n",
       "<style scoped>\n",
       "    .dataframe tbody tr th:only-of-type {\n",
       "        vertical-align: middle;\n",
       "    }\n",
       "\n",
       "    .dataframe tbody tr th {\n",
       "        vertical-align: top;\n",
       "    }\n",
       "\n",
       "    .dataframe thead th {\n",
       "        text-align: right;\n",
       "    }\n",
       "</style>\n",
       "<table border=\"1\" class=\"dataframe\">\n",
       "  <thead>\n",
       "    <tr style=\"text-align: right;\">\n",
       "      <th></th>\n",
       "      <th>y_actual</th>\n",
       "      <th>Y_predict</th>\n",
       "      <th>difference</th>\n",
       "    </tr>\n",
       "  </thead>\n",
       "  <tbody>\n",
       "    <tr>\n",
       "      <th>25338</th>\n",
       "      <td>667.39</td>\n",
       "      <td>665.6842</td>\n",
       "      <td>1.7058</td>\n",
       "    </tr>\n",
       "    <tr>\n",
       "      <th>17680</th>\n",
       "      <td>716.32</td>\n",
       "      <td>718.5479</td>\n",
       "      <td>2.2279</td>\n",
       "    </tr>\n",
       "    <tr>\n",
       "      <th>47635</th>\n",
       "      <td>670.48</td>\n",
       "      <td>670.9855</td>\n",
       "      <td>0.5055</td>\n",
       "    </tr>\n",
       "    <tr>\n",
       "      <th>22923</th>\n",
       "      <td>630.08</td>\n",
       "      <td>638.2988</td>\n",
       "      <td>8.2188</td>\n",
       "    </tr>\n",
       "    <tr>\n",
       "      <th>2937</th>\n",
       "      <td>734.48</td>\n",
       "      <td>736.0834</td>\n",
       "      <td>1.6034</td>\n",
       "    </tr>\n",
       "    <tr>\n",
       "      <th>13352</th>\n",
       "      <td>21.82</td>\n",
       "      <td>22.7831</td>\n",
       "      <td>0.9631</td>\n",
       "    </tr>\n",
       "    <tr>\n",
       "      <th>28447</th>\n",
       "      <td>674.77</td>\n",
       "      <td>676.9534</td>\n",
       "      <td>2.1834</td>\n",
       "    </tr>\n",
       "    <tr>\n",
       "      <th>18802</th>\n",
       "      <td>749.76</td>\n",
       "      <td>745.3452</td>\n",
       "      <td>4.4148</td>\n",
       "    </tr>\n",
       "    <tr>\n",
       "      <th>7582</th>\n",
       "      <td>719.02</td>\n",
       "      <td>722.2172</td>\n",
       "      <td>3.1972</td>\n",
       "    </tr>\n",
       "    <tr>\n",
       "      <th>11015</th>\n",
       "      <td>671.62</td>\n",
       "      <td>676.8977</td>\n",
       "      <td>5.2777</td>\n",
       "    </tr>\n",
       "  </tbody>\n",
       "</table>\n",
       "</div>"
      ],
      "text/plain": [
       "       y_actual  Y_predict  difference\n",
       "25338    667.39   665.6842      1.7058\n",
       "17680    716.32   718.5479      2.2279\n",
       "47635    670.48   670.9855      0.5055\n",
       "22923    630.08   638.2988      8.2188\n",
       "2937     734.48   736.0834      1.6034\n",
       "13352     21.82    22.7831      0.9631\n",
       "28447    674.77   676.9534      2.1834\n",
       "18802    749.76   745.3452      4.4148\n",
       "7582     719.02   722.2172      3.1972\n",
       "11015    671.62   676.8977      5.2777"
      ]
     },
     "execution_count": 64,
     "metadata": {},
     "output_type": "execute_result"
    }
   ],
   "source": [
    "truth.head(10)"
   ]
  }
 ],
 "metadata": {
  "kernelspec": {
   "display_name": "Python 3.9.7 ('base')",
   "language": "python",
   "name": "python3"
  },
  "language_info": {
   "codemirror_mode": {
    "name": "ipython",
    "version": 3
   },
   "file_extension": ".py",
   "mimetype": "text/x-python",
   "name": "python",
   "nbconvert_exporter": "python",
   "pygments_lexer": "ipython3",
   "version": "3.9.7"
  },
  "vscode": {
   "interpreter": {
    "hash": "b8fd063ec817739f59a7f077191674e411b742bea4ffe3f308a92037e2940d33"
   }
  }
 },
 "nbformat": 4,
 "nbformat_minor": 5
}
